{
 "cells": [
  {
   "cell_type": "code",
   "execution_count": 19,
   "metadata": {},
   "outputs": [
    {
     "name": "stdout",
     "output_type": "stream",
     "text": [
      "['MediumVioletRed', 'LightGray', 'Violet', 'BlanchedAlmond', 'PaleGoldenRod', 'Chartreuse', 'Azure', 'CornflowerBlue', 'DarkGoldenRod', 'WhiteSmoke', 'Turquoise', 'MediumAquaMarine', 'Lavender', 'PaleGoldenRod', 'DeepSkyBlue', 'MediumTurquoise', 'SeaShell', 'RoyalBlue', 'Aqua', 'Tan']\n",
      "{'MediumVioletRed': 15, 'LightGray': 9, 'Violet': 6, 'BlanchedAlmond': 14, 'PaleGoldenRod': 13, 'Chartreuse': 10, 'Azure': 5, 'CornflowerBlue': 14, 'DarkGoldenRod': 13, 'WhiteSmoke': 10, 'Turquoise': 9, 'MediumAquaMarine': 16, 'Lavender': 8, 'DeepSkyBlue': 11, 'MediumTurquoise': 15, 'SeaShell': 8, 'RoyalBlue': 9, 'Aqua': 4, 'Tan': 3}\n"
     ]
    }
   ],
   "source": [
    "# Use Python's Faker library to generate a list of twenty colors. Call it color_list.\n",
    "\n",
    "from faker import Faker\n",
    "\n",
    "fake = Faker()\n",
    "color_list = []\n",
    "\n",
    "for i in range (20):\n",
    "    color = fake.color_name()\n",
    "    color_list.append(color)\n",
    "print(color_list)\n",
    "\n",
    "\n",
    "def remove_dups(color_list: list):\n",
    "    return set(color_list)\n",
    "\n",
    "remove_dups(color_list)\n",
    "\n",
    "\n",
    "color_dict = {color: len(color) for color in color_list}\n",
    "print(color_dict)\n",
    "\n",
    "\n"
   ]
  }
 ],
 "metadata": {
  "kernelspec": {
   "display_name": "Python 3.7.15 ('venv': venv)",
   "language": "python",
   "name": "python3"
  },
  "language_info": {
   "codemirror_mode": {
    "name": "ipython",
    "version": 3
   },
   "file_extension": ".py",
   "mimetype": "text/x-python",
   "name": "python",
   "nbconvert_exporter": "python",
   "pygments_lexer": "ipython3",
   "version": "3.7.15"
  },
  "orig_nbformat": 4,
  "vscode": {
   "interpreter": {
    "hash": "1c5830ed872e25c536886bd5ca75d0946af3ee1ae96a7f862e2909a26b099990"
   }
  }
 },
 "nbformat": 4,
 "nbformat_minor": 2
}
