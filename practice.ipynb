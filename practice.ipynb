{
 "cells": [
  {
   "cell_type": "code",
   "execution_count": 8,
   "metadata": {},
   "outputs": [
    {
     "name": "stdout",
     "output_type": "stream",
     "text": [
      "Ryan Holmes, Youth worker, ronald28@example.net\n",
      "Thomas Chavez, Financial adviser, scottkhan@example.net\n",
      "Stephanie Walker, Magazine journalist, campbellchristina@example.net\n",
      "Ryan Sims, Sports therapist, darrylparks@example.org\n",
      "Anthony Ali, Teacher, English as a foreign language, leefloyd@example.org\n"
     ]
    }
   ],
   "source": [
    "from faker import Faker \n",
    "\n",
    "fake = Faker()\n",
    "\n",
    "with open(\"../data/profiles.txt\"):\n",
    "    for person in range (5):            #Generate fake profile\n",
    "        name = fake.name()\n",
    "        job = fake.job()\n",
    "        email = fake.email()\n",
    "        print(f\"{name}, {job}, {email}\")"
   ]
  },
  {
   "cell_type": "code",
   "execution_count": null,
   "metadata": {},
   "outputs": [],
   "source": []
  }
 ],
 "metadata": {
  "kernelspec": {
   "display_name": "Python 3.7.15 ('venv': venv)",
   "language": "python",
   "name": "python3"
  },
  "language_info": {
   "codemirror_mode": {
    "name": "ipython",
    "version": 3
   },
   "file_extension": ".py",
   "mimetype": "text/x-python",
   "name": "python",
   "nbconvert_exporter": "python",
   "pygments_lexer": "ipython3",
   "version": "3.7.15"
  },
  "orig_nbformat": 4,
  "vscode": {
   "interpreter": {
    "hash": "1c5830ed872e25c536886bd5ca75d0946af3ee1ae96a7f862e2909a26b099990"
   }
  }
 },
 "nbformat": 4,
 "nbformat_minor": 2
}
