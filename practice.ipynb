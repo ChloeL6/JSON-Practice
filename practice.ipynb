{
 "cells": [
  {
   "cell_type": "code",
   "execution_count": 50,
   "metadata": {},
   "outputs": [
    {
     "name": "stdout",
     "output_type": "stream",
     "text": [
      "['Maroon', 'Turquoise', 'AliceBlue', 'Tan', 'MediumTurquoise', 'Snow', 'MediumAquaMarine', 'SeaShell', 'SpringGreen', 'PapayaWhip', 'Silver', 'LemonChiffon', 'Violet', 'White', 'MediumPurple', 'OldLace', 'SpringGreen', 'Azure', 'DarkBlue', 'DarkOrange']\n"
     ]
    }
   ],
   "source": [
    "# Use Python's Faker library to generate a list of twenty colors. Call it color_list.\n",
    "\n",
    "from faker import Faker\n",
    "\n",
    "fake = Faker()\n",
    "color_list = []\n",
    "\n",
    "for i in range (20):\n",
    "    color = fake.color_name()\n",
    "    color_list.append(color)\n",
    "print(color_list)"
   ]
  },
  {
   "cell_type": "code",
   "execution_count": 108,
   "metadata": {},
   "outputs": [
    {
     "data": {
      "text/plain": [
       "['Maroon',\n",
       " 'Turquoise',\n",
       " 'AliceBlue',\n",
       " 'Tan',\n",
       " 'MediumTurquoise',\n",
       " 'Snow',\n",
       " 'MediumAquaMarine',\n",
       " 'SeaShell',\n",
       " 'SpringGreen',\n",
       " 'PapayaWhip',\n",
       " 'Silver',\n",
       " 'LemonChiffon',\n",
       " 'Violet',\n",
       " 'White',\n",
       " 'MediumPurple',\n",
       " 'OldLace',\n",
       " 'Azure',\n",
       " 'DarkBlue',\n",
       " 'DarkOrange']"
      ]
     },
     "execution_count": 108,
     "metadata": {},
     "output_type": "execute_result"
    }
   ],
   "source": [
    "def remove_dups(sample):\n",
    "    no_dups = []\n",
    "    for x in sample:\n",
    "        if x not in no_dups:\n",
    "          no_dups.append(x)\n",
    "    return no_dups\n",
    "\n",
    "remove_dups(color_list)"
   ]
  },
  {
   "cell_type": "code",
   "execution_count": 109,
   "metadata": {},
   "outputs": [
    {
     "name": "stdout",
     "output_type": "stream",
     "text": [
      "{'Maroon': 6, 'Turquoise': 9, 'AliceBlue': 9, 'Tan': 3, 'MediumTurquoise': 15, 'Snow': 4, 'MediumAquaMarine': 16, 'SeaShell': 8, 'SpringGreen': 11, 'PapayaWhip': 10, 'Silver': 6, 'LemonChiffon': 12, 'Violet': 6, 'White': 5, 'MediumPurple': 12, 'OldLace': 7, 'Azure': 5, 'DarkBlue': 8, 'DarkOrange': 10}\n"
     ]
    }
   ],
   "source": [
    "color_dict = {color: len(color) for color in color_list}\n",
    "print(color_dict)"
   ]
  },
  {
   "cell_type": "code",
   "execution_count": 60,
   "metadata": {},
   "outputs": [
    {
     "name": "stdout",
     "output_type": "stream",
     "text": [
      "done!\n"
     ]
    }
   ],
   "source": [
    "import json\n",
    "\n",
    "with open(\"./data/color_list.json\", \"w\") as json_wfile:\n",
    "    json.dump(color_dict, json_wfile, indent=4, skipkeys=True)\n",
    "    \n",
    "print(\"done!\")"
   ]
  },
  {
   "cell_type": "code",
   "execution_count": 61,
   "metadata": {},
   "outputs": [
    {
     "name": "stdout",
     "output_type": "stream",
     "text": [
      "Color name: Maroon, its length: 6\n",
      "Color name: Turquoise, its length: 9\n",
      "Color name: AliceBlue, its length: 9\n",
      "This color has value < 4: Tan, 3\n",
      "Color name: MediumTurquoise, its length: 15\n",
      "Color name: Snow, its length: 4\n",
      "Color name: MediumAquaMarine, its length: 16\n",
      "Color name: SeaShell, its length: 8\n",
      "Color name: SpringGreen, its length: 11\n",
      "Color name: PapayaWhip, its length: 10\n",
      "Color name: Silver, its length: 6\n",
      "Color name: LemonChiffon, its length: 12\n",
      "Color name: Violet, its length: 6\n",
      "Color name: White, its length: 5\n",
      "Color name: MediumPurple, its length: 12\n",
      "Color name: OldLace, its length: 7\n",
      "Color name: Azure, its length: 5\n",
      "Color name: DarkBlue, its length: 8\n",
      "Color name: DarkOrange, its length: 10\n"
     ]
    }
   ],
   "source": [
    "with open(\"./data/color_list.json\", \"r\") as json_rfile:\n",
    "    color_read_dict = json.load(json_rfile)\n",
    "    for key, value in color_read_dict.items():\n",
    "        if value >= 4:\n",
    "            print(f\"Color name: {key}, its length: {value}\")\n",
    "        else:\n",
    "            print(f\"This color has value < 4: {key}, {value}\")\n",
    "# print(color_read_dict)\n",
    "# print(type(color_read_dict))\n",
    "\n"
   ]
  },
  {
   "cell_type": "code",
   "execution_count": 57,
   "metadata": {},
   "outputs": [
    {
     "name": "stdout",
     "output_type": "stream",
     "text": [
      "{\"Maroon\": 6, \"Turquoise\": 9, \"AliceBlue\": 9, \"Tan\": 3, \"MediumTurquoise\": 15, \"Snow\": 4, \"MediumAquaMarine\": 16, \"SeaShell\": 8, \"SpringGreen\": 11, \"PapayaWhip\": 10, \"Silver\": 6, \"LemonChiffon\": 12, \"Violet\": 6, \"White\": 5, \"MediumPurple\": 12, \"OldLace\": 7, \"Azure\": 5, \"DarkBlue\": 8, \"DarkOrange\": 10}\n",
      "<class 'str'>\n"
     ]
    }
   ],
   "source": [
    "json_str = json.dumps(color_read_dict)\n",
    "print(json_str)\n",
    "\n",
    "print(type(json_str))"
   ]
  },
  {
   "cell_type": "code",
   "execution_count": 106,
   "metadata": {},
   "outputs": [
    {
     "data": {
      "text/plain": [
       "[1, 5, 3, 6]"
      ]
     },
     "execution_count": 106,
     "metadata": {},
     "output_type": "execute_result"
    }
   ],
   "source": [
    "no_dups = []\n",
    "test = [1, 5, 3, 6, 3, 5, 6, 1]\n",
    "\n",
    "def remove_dups(test_list):\n",
    "    for x in test_list:\n",
    "        if x not in no_dups:\n",
    "          no_dups.append(x)\n",
    "    return no_dups\n",
    "\n",
    "# def remove_dups(test_list):\n",
    "#     return [no_dups.append(x) for x in test_list if x not in no_dups]\n",
    "\n",
    "remove_dups(test)\n"
   ]
  }
 ],
 "metadata": {
  "kernelspec": {
   "display_name": "Python 3.7.15 ('venv': venv)",
   "language": "python",
   "name": "python3"
  },
  "language_info": {
   "codemirror_mode": {
    "name": "ipython",
    "version": 3
   },
   "file_extension": ".py",
   "mimetype": "text/x-python",
   "name": "python",
   "nbconvert_exporter": "python",
   "pygments_lexer": "ipython3",
   "version": "3.7.15"
  },
  "orig_nbformat": 4,
  "vscode": {
   "interpreter": {
    "hash": "1c5830ed872e25c536886bd5ca75d0946af3ee1ae96a7f862e2909a26b099990"
   }
  }
 },
 "nbformat": 4,
 "nbformat_minor": 2
}
