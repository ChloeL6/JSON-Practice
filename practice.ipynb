{
 "cells": [
  {
   "cell_type": "code",
   "execution_count": 20,
   "metadata": {},
   "outputs": [
    {
     "name": "stdout",
     "output_type": "stream",
     "text": [
      "['LightGray', 'DarkSeaGreen', 'GoldenRod', 'Violet', 'LightGoldenRodYellow', 'Plum', 'FireBrick', 'LemonChiffon', 'PaleTurquoise', 'DodgerBlue', 'LemonChiffon', 'Moccasin', 'SteelBlue', 'Aqua', 'LemonChiffon', 'DarkKhaki', 'Plum', 'SkyBlue', 'FireBrick', 'Wheat']\n"
     ]
    }
   ],
   "source": [
    "# Use Python's Faker library to generate a list of twenty colors. Call it color_list.\n",
    "\n",
    "from faker import Faker\n",
    "\n",
    "fake = Faker()\n",
    "color_list = []\n",
    "\n",
    "for i in range (20):\n",
    "    color = fake.color_name()\n",
    "    color_list.append(color)\n",
    "print(color_list)"
   ]
  },
  {
   "cell_type": "code",
   "execution_count": 21,
   "metadata": {},
   "outputs": [
    {
     "data": {
      "text/plain": [
       "{'Aqua',\n",
       " 'DarkKhaki',\n",
       " 'DarkSeaGreen',\n",
       " 'DodgerBlue',\n",
       " 'FireBrick',\n",
       " 'GoldenRod',\n",
       " 'LemonChiffon',\n",
       " 'LightGoldenRodYellow',\n",
       " 'LightGray',\n",
       " 'Moccasin',\n",
       " 'PaleTurquoise',\n",
       " 'Plum',\n",
       " 'SkyBlue',\n",
       " 'SteelBlue',\n",
       " 'Violet',\n",
       " 'Wheat'}"
      ]
     },
     "execution_count": 21,
     "metadata": {},
     "output_type": "execute_result"
    }
   ],
   "source": [
    "def remove_dups(color_list: list):\n",
    "    return set(color_list)\n",
    "\n",
    "remove_dups(color_list)"
   ]
  },
  {
   "cell_type": "code",
   "execution_count": 22,
   "metadata": {},
   "outputs": [
    {
     "name": "stdout",
     "output_type": "stream",
     "text": [
      "{'LightGray': 9, 'DarkSeaGreen': 12, 'GoldenRod': 9, 'Violet': 6, 'LightGoldenRodYellow': 20, 'Plum': 4, 'FireBrick': 9, 'LemonChiffon': 12, 'PaleTurquoise': 13, 'DodgerBlue': 10, 'Moccasin': 8, 'SteelBlue': 9, 'Aqua': 4, 'DarkKhaki': 9, 'SkyBlue': 7, 'Wheat': 5}\n"
     ]
    }
   ],
   "source": [
    "color_dict = {color: len(color) for color in color_list}\n",
    "print(color_dict)"
   ]
  },
  {
   "cell_type": "code",
   "execution_count": 25,
   "metadata": {},
   "outputs": [
    {
     "name": "stdout",
     "output_type": "stream",
     "text": [
      "done!\n"
     ]
    }
   ],
   "source": [
    "import json\n",
    "\n",
    "with open(\"./data/color_list.json\", \"w\") as json_wfile:\n",
    "    json.dump(color_dict, json_wfile, indent=4, skipkeys=True)\n",
    "print(\"done!\")"
   ]
  },
  {
   "cell_type": "code",
   "execution_count": null,
   "metadata": {},
   "outputs": [],
   "source": [
    "with open(\"../data/color_list.json\", \"r\") as json_rfile:\n",
    "    "
   ]
  }
 ],
 "metadata": {
  "kernelspec": {
   "display_name": "Python 3.7.15 ('venv': venv)",
   "language": "python",
   "name": "python3"
  },
  "language_info": {
   "codemirror_mode": {
    "name": "ipython",
    "version": 3
   },
   "file_extension": ".py",
   "mimetype": "text/x-python",
   "name": "python",
   "nbconvert_exporter": "python",
   "pygments_lexer": "ipython3",
   "version": "3.7.15"
  },
  "orig_nbformat": 4,
  "vscode": {
   "interpreter": {
    "hash": "1c5830ed872e25c536886bd5ca75d0946af3ee1ae96a7f862e2909a26b099990"
   }
  }
 },
 "nbformat": 4,
 "nbformat_minor": 2
}
